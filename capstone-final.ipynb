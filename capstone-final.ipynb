{
 "cells": [
  {
   "cell_type": "markdown",
   "metadata": {},
   "source": [
    "# Applied Data Science Capstone Project\n",
    "### Singapore: Which areas are underserved by restaurants?\n",
    "\n"
   ]
  },
  {
   "cell_type": "markdown",
   "metadata": {},
   "source": [
    "## Table of Contents\n",
    "\n",
    "1. Introduction / Business Problem\n",
    "2. Data"
   ]
  },
  {
   "cell_type": "markdown",
   "metadata": {},
   "source": [
    "## 1. Introduction / Business Problem\n",
    "\n",
    "Singapore is a city state that is divided into “Planning Areas”. Some areas, particularly the city center, have a high concentration of restaurants that are able to not only draw patrons from nearby residences, but also attract patrons who travel from other areas perhaps because of their established food and service quality.\n",
    "\n",
    "When opening a new restaurant, it will be sensible to consider areas which are relatively underserved by restaurants, at least so as to minimize competitive pressure for patrons who live nearby.\n"
   ]
  },
  {
   "cell_type": "markdown",
   "metadata": {},
   "source": [
    "## 2. Data\n",
    "\n",
    "A list of Singapore’s Planning Areas will be retrieved from Wikipedia, together with the population count that area. Population is important since areas with higher populations is expected to have a greater demand for restaurants. https://en.wikipedia.org/wiki/Planning_Areas_of_Singapore\n",
    "\n",
    "The Foursquare API will be used to retrieve lists of restaurants by area, which will then be converted to restaurant counts.\n",
    "\n",
    "From the above data, a restaurant per population indicator will be calculated for each area. Areas with low restaurants per population would imply that they can support additional restaurants.\n"
   ]
  },
  {
   "cell_type": "code",
   "execution_count": null,
   "metadata": {},
   "outputs": [],
   "source": []
  }
 ],
 "metadata": {
  "kernelspec": {
   "display_name": "Python 3",
   "language": "python",
   "name": "python3"
  },
  "language_info": {
   "codemirror_mode": {
    "name": "ipython",
    "version": 3
   },
   "file_extension": ".py",
   "mimetype": "text/x-python",
   "name": "python",
   "nbconvert_exporter": "python",
   "pygments_lexer": "ipython3",
   "version": "3.8.2"
  }
 },
 "nbformat": 4,
 "nbformat_minor": 4
}
